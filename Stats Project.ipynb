{
 "cells": [
  {
   "cell_type": "markdown",
   "metadata": {},
   "source": [
    "## STATS PROJECT"
   ]
  },
  {
   "cell_type": "code",
   "execution_count": 45,
   "metadata": {},
   "outputs": [],
   "source": [
    "import pandas as pd\n",
    "import numpy as np\n",
    "import statsmodels.api as sm\n",
    "from statsmodels.formula.api import ols\n",
    "from scipy import stats\n",
    "import matplotlib.pyplot as plt\n",
    "%matplotlib inline\n",
    "from sklearn.linear_model import LinearRegression\n",
    "import seaborn as sb"
   ]
  },
  {
   "cell_type": "code",
   "execution_count": 2,
   "metadata": {},
   "outputs": [],
   "source": [
    "data=pd.read_csv('Stats_data.csv')"
   ]
  },
  {
   "cell_type": "code",
   "execution_count": 3,
   "metadata": {},
   "outputs": [
    {
     "name": "stdout",
     "output_type": "stream",
     "text": [
      "    obs    x1  x2  x3  Worker's  Strike   y\n",
      "0     1    60   7   7                 0  29\n",
      "1     2    80  10   8                 0  15\n",
      "2     3    50  14   5                 0  10\n",
      "3     4    50   4   3                 0  15\n",
      "4     5    75   5   6                 0  30\n",
      "5     6   750  10  10                 0  45\n",
      "6     7    70   5   3                 0   7\n",
      "7     8    80   3   6                 0  21\n",
      "8     9   300   8   8                 0  28\n",
      "9    10   110   7   4                 0  30\n",
      "10   11   100   8  10                 1  60\n",
      "11   12   200  12  11                 1  70\n",
      "12   13   500  15  12                 1  75\n",
      "13   14  1200  20  12                 1  90\n",
      "14   15   250   8  12                 1  62\n",
      "15   16   400  14  14                 1  72\n",
      "16   17   800  17  12                 1  82\n",
      "17   18  2600  14  13                 1  50\n"
     ]
    }
   ],
   "source": [
    "print(data)"
   ]
  },
  {
   "cell_type": "markdown",
   "metadata": {},
   "source": [
    "## Answer 1: \n",
    "we need to compute whether there an impact of workers’ strike on construction project completion time, So for that we are applying t-statistics test to compare mean and finding p-value and comparing it with alpha. Consider alpha =0.05 Null hypothesis is difference in mean is zero Alternate hypothesis is difference in mean is not zero"
   ]
  },
  {
   "cell_type": "code",
   "execution_count": 4,
   "metadata": {},
   "outputs": [],
   "source": [
    "y_strike=[data['y'][i] for i in range(len(data[\"Worker's  Strike\"])) if data[\"Worker's  Strike\"][i]==1]\n",
    "y_nonstrike=[data['y'][i] for i in range(len(data[\"Worker's  Strike\"])) if data[\"Worker's  Strike\"][i]==0]"
   ]
  },
  {
   "cell_type": "code",
   "execution_count": 5,
   "metadata": {},
   "outputs": [],
   "source": [
    "t2, p2 = stats.ttest_ind(y_strike,y_nonstrike)"
   ]
  },
  {
   "cell_type": "code",
   "execution_count": 6,
   "metadata": {},
   "outputs": [
    {
     "name": "stdout",
     "output_type": "stream",
     "text": [
      "8.22057799600084 3.8896890086529434e-07\n"
     ]
    }
   ],
   "source": [
    "print(t2,p2)"
   ]
  },
  {
   "cell_type": "markdown",
   "metadata": {},
   "source": [
    "As p-value is less than alpha=0.05, hence null hypothesis is rejected and it can be concluded that there an impact of workers’ strike on construction project on completion time"
   ]
  },
  {
   "cell_type": "markdown",
   "metadata": {},
   "source": [
    "## Answer 2:\n",
    "We need to predict whether there is an association between various predictor variables and the time required to complete a construction project. For that we can find corelation between each independent variable and dependent variable using r-square value. \n",
    "\n",
    "If r-square=0 means no correlation\n",
    "\n",
    "If -0.5 < r-square < 0.5 means weak corelation\n",
    "\n",
    "If -1 <r-square> -0.5 means strong corelation in negative direction\n",
    "    \n",
    "If 0.5 < r-square < 1 means strong corelation in positive\n"
   ]
  },
  {
   "cell_type": "code",
   "execution_count": 7,
   "metadata": {},
   "outputs": [
    {
     "data": {
      "text/plain": [
       "<matplotlib.collections.PathCollection at 0x23ff5a55488>"
      ]
     },
     "execution_count": 7,
     "metadata": {},
     "output_type": "execute_result"
    },
    {
     "data": {
      "image/png": "[encoded data removed]",
      "text/plain": [
       "<Figure size 432x288 with 1 Axes>"
      ]
     },
     "metadata": {
      "needs_background": "light"
     },
     "output_type": "display_data"
    }
   ],
   "source": [
    "model_1=LinearRegression()\n",
    "model_1.fit(data['x1'].values.reshape(18,1),data['y'].values.reshape(18,1))\n",
    "plt.scatter(data['x1'],data['y'])"
   ]
  },
  {
   "cell_type": "code",
   "execution_count": 8,
   "metadata": {},
   "outputs": [
    {
     "data": {
      "text/plain": [
       "0.18021604741471098"
      ]
     },
     "execution_count": 8,
     "metadata": {},
     "output_type": "execute_result"
    }
   ],
   "source": [
    "model_1.score(data['x1'].values.reshape(18,1),data['y'].values.reshape(18,1))"
   ]
  },
  {
   "cell_type": "markdown",
   "metadata": {},
   "source": [
    "This r-square value depict that x1 is weakly correlated with y and relation is positive"
   ]
  },
  {
   "cell_type": "code",
   "execution_count": 9,
   "metadata": {},
   "outputs": [
    {
     "data": {
      "text/plain": [
       "<matplotlib.collections.PathCollection at 0x23ff5e95f08>"
      ]
     },
     "execution_count": 9,
     "metadata": {},
     "output_type": "execute_result"
    },
    {
     "data": {
      "image/png": "[encoded data removed]",
      "text/plain": [
       "<Figure size 432x288 with 1 Axes>"
      ]
     },
     "metadata": {
      "needs_background": "light"
     },
     "output_type": "display_data"
    }
   ],
   "source": [
    "model_2=LinearRegression()\n",
    "model_2.fit(data['x2'].values.reshape(18,1),data['y'].values.reshape(18,1))\n",
    "plt.scatter(data['x2'],data['y'])"
   ]
  },
  {
   "cell_type": "code",
   "execution_count": 10,
   "metadata": {},
   "outputs": [
    {
     "data": {
      "text/plain": [
       "0.5191801732994851"
      ]
     },
     "execution_count": 10,
     "metadata": {},
     "output_type": "execute_result"
    }
   ],
   "source": [
    "model_2.score(data['x2'].values.reshape(18,1),data['y'].values.reshape(18,1))"
   ]
  },
  {
   "cell_type": "markdown",
   "metadata": {},
   "source": [
    "This r-square value depict that x2 is strongle correlated with y and relation is positive"
   ]
  },
  {
   "cell_type": "code",
   "execution_count": 11,
   "metadata": {},
   "outputs": [
    {
     "data": {
      "text/plain": [
       "<matplotlib.collections.PathCollection at 0x23ff5ef6a88>"
      ]
     },
     "execution_count": 11,
     "metadata": {},
     "output_type": "execute_result"
    },
    {
     "data": {
      "image/png": "[encoded data removed]",
      "text/plain": [
       "<Figure size 432x288 with 1 Axes>"
      ]
     },
     "metadata": {
      "needs_background": "light"
     },
     "output_type": "display_data"
    }
   ],
   "source": [
    "model_3=LinearRegression()\n",
    "model_3.fit(data['x3'].values.reshape(18,1),data['y'].values.reshape(18,1))\n",
    "plt.scatter(data['x3'],data['y'])"
   ]
  },
  {
   "cell_type": "code",
   "execution_count": 12,
   "metadata": {},
   "outputs": [
    {
     "data": {
      "text/plain": [
       "0.7573721113025976"
      ]
     },
     "execution_count": 12,
     "metadata": {},
     "output_type": "execute_result"
    }
   ],
   "source": [
    "model_3.score(data['x3'].values.reshape(18,1),data['y'].values.reshape(18,1))"
   ]
  },
  {
   "cell_type": "markdown",
   "metadata": {},
   "source": [
    "This r-square value depict that x3 is strongle correlated with y and relation is positive"
   ]
  },
  {
   "cell_type": "markdown",
   "metadata": {},
   "source": [
    "So Final conclusion is x2 and x3 are strongly correlated while x1 is weakly correlated and all correlations are positive"
   ]
  },
  {
   "cell_type": "markdown",
   "metadata": {},
   "source": [
    "## Answer 3"
   ]
  },
  {
   "cell_type": "markdown",
   "metadata": {},
   "source": [
    "We will fit first order model using multiple linear regression and check utility of all variables by considering null hypothesis as Coefficient of all variables =0 considering alpha=1\n"
   ]
  },
  {
   "cell_type": "code",
   "execution_count": 16,
   "metadata": {},
   "outputs": [],
   "source": [
    "X=data[[\"x1\",\"x2\",\"x3\",\"Worker's  Strike\"]]"
   ]
  },
  {
   "cell_type": "code",
   "execution_count": 23,
   "metadata": {},
   "outputs": [
    {
     "name": "stderr",
     "output_type": "stream",
     "text": [
      "C:\\Users\\lenovo\\anaconda3\\lib\\site-packages\\scipy\\stats\\stats.py:1535: UserWarning: kurtosistest only valid for n>=20 ... continuing anyway, n=18\n",
      "  \"anyway, n=%i\" % int(n))\n"
     ]
    },
    {
     "data": {
      "text/html": [
       "<table class=\"simpletable\">\n",
       "<caption>OLS Regression Results</caption>\n",
       "<tr>\n",
       "  <th>Dep. Variable:</th>            <td>y</td>        <th>  R-squared:         </th> <td>   0.870</td>\n",
       "</tr>\n",
       "<tr>\n",
       "  <th>Model:</th>                   <td>OLS</td>       <th>  Adj. R-squared:    </th> <td>   0.830</td>\n",
       "</tr>\n",
       "<tr>\n",
       "  <th>Method:</th>             <td>Least Squares</td>  <th>  F-statistic:       </th> <td>   21.78</td>\n",
       "</tr>\n",
       "<tr>\n",
       "  <th>Date:</th>             <td>Mon, 17 Aug 2020</td> <th>  Prob (F-statistic):</th> <td>1.15e-05</td>\n",
       "</tr>\n",
       "<tr>\n",
       "  <th>Time:</th>                 <td>20:14:57</td>     <th>  Log-Likelihood:    </th> <td> -65.842</td>\n",
       "</tr>\n",
       "<tr>\n",
       "  <th>No. Observations:</th>      <td>    18</td>      <th>  AIC:               </th> <td>   141.7</td>\n",
       "</tr>\n",
       "<tr>\n",
       "  <th>Df Residuals:</th>          <td>    13</td>      <th>  BIC:               </th> <td>   146.1</td>\n",
       "</tr>\n",
       "<tr>\n",
       "  <th>Df Model:</th>              <td>     4</td>      <th>                     </th>     <td> </td>   \n",
       "</tr>\n",
       "<tr>\n",
       "  <th>Covariance Type:</th>      <td>nonrobust</td>    <th>                     </th>     <td> </td>   \n",
       "</tr>\n",
       "</table>\n",
       "<table class=\"simpletable\">\n",
       "<tr>\n",
       "          <td></td>            <th>coef</th>     <th>std err</th>      <th>t</th>      <th>P>|t|</th>  <th>[0.025</th>    <th>0.975]</th>  \n",
       "</tr>\n",
       "<tr>\n",
       "  <th>const</th>            <td>   -0.0657</td> <td>   10.197</td> <td>   -0.006</td> <td> 0.995</td> <td>  -22.096</td> <td>   21.964</td>\n",
       "</tr>\n",
       "<tr>\n",
       "  <th>x1</th>               <td>   -0.0062</td> <td>    0.005</td> <td>   -1.157</td> <td> 0.268</td> <td>   -0.018</td> <td>    0.005</td>\n",
       "</tr>\n",
       "<tr>\n",
       "  <th>x2</th>               <td>    1.0936</td> <td>    0.833</td> <td>    1.312</td> <td> 0.212</td> <td>   -0.707</td> <td>    2.894</td>\n",
       "</tr>\n",
       "<tr>\n",
       "  <th>x3</th>               <td>    2.6822</td> <td>    1.614</td> <td>    1.661</td> <td> 0.121</td> <td>   -0.805</td> <td>    6.170</td>\n",
       "</tr>\n",
       "<tr>\n",
       "  <th>Worker's  Strike</th> <td>   27.9443</td> <td>   10.284</td> <td>    2.717</td> <td> 0.018</td> <td>    5.726</td> <td>   50.162</td>\n",
       "</tr>\n",
       "</table>\n",
       "<table class=\"simpletable\">\n",
       "<tr>\n",
       "  <th>Omnibus:</th>       <td> 0.498</td> <th>  Durbin-Watson:     </th> <td>   1.856</td>\n",
       "</tr>\n",
       "<tr>\n",
       "  <th>Prob(Omnibus):</th> <td> 0.780</td> <th>  Jarque-Bera (JB):  </th> <td>   0.577</td>\n",
       "</tr>\n",
       "<tr>\n",
       "  <th>Skew:</th>          <td>-0.305</td> <th>  Prob(JB):          </th> <td>   0.749</td>\n",
       "</tr>\n",
       "<tr>\n",
       "  <th>Kurtosis:</th>      <td> 2.369</td> <th>  Cond. No.          </th> <td>3.81e+03</td>\n",
       "</tr>\n",
       "</table><br/><br/>Warnings:<br/>[1] Standard Errors assume that the covariance matrix of the errors is correctly specified.<br/>[2] The condition number is large, 3.81e+03. This might indicate that there are<br/>strong multicollinearity or other numerical problems."
      ],
      "text/plain": [
       "<class 'statsmodels.iolib.summary.Summary'>\n",
       "\"\"\"\n",
       "                            OLS Regression Results                            \n",
       "==============================================================================\n",
       "Dep. Variable:                      y   R-squared:                       0.870\n",
       "Model:                            OLS   Adj. R-squared:                  0.830\n",
       "Method:                 Least Squares   F-statistic:                     21.78\n",
       "Date:                Mon, 17 Aug 2020   Prob (F-statistic):           1.15e-05\n",
       "Time:                        20:14:57   Log-Likelihood:                -65.842\n",
       "No. Observations:                  18   AIC:                             141.7\n",
       "Df Residuals:                      13   BIC:                             146.1\n",
       "Df Model:                           4                                         \n",
       "Covariance Type:            nonrobust                                         \n",
       "====================================================================================\n",
       "                       coef    std err          t      P>|t|      [0.025      0.975]\n",
       "------------------------------------------------------------------------------------\n",
       "const               -0.0657     10.197     -0.006      0.995     -22.096      21.964\n",
       "x1                  -0.0062      0.005     -1.157      0.268      -0.018       0.005\n",
       "x2                   1.0936      0.833      1.312      0.212      -0.707       2.894\n",
       "x3                   2.6822      1.614      1.661      0.121      -0.805       6.170\n",
       "Worker's  Strike    27.9443     10.284      2.717      0.018       5.726      50.162\n",
       "==============================================================================\n",
       "Omnibus:                        0.498   Durbin-Watson:                   1.856\n",
       "Prob(Omnibus):                  0.780   Jarque-Bera (JB):                0.577\n",
       "Skew:                          -0.305   Prob(JB):                        0.749\n",
       "Kurtosis:                       2.369   Cond. No.                     3.81e+03\n",
       "==============================================================================\n",
       "\n",
       "Warnings:\n",
       "[1] Standard Errors assume that the covariance matrix of the errors is correctly specified.\n",
       "[2] The condition number is large, 3.81e+03. This might indicate that there are\n",
       "strong multicollinearity or other numerical problems.\n",
       "\"\"\""
      ]
     },
     "execution_count": 23,
     "metadata": {},
     "output_type": "execute_result"
    }
   ],
   "source": [
    "X=sm.add_constant(X)        #to add constant in the model\n",
    "model= sm.OLS(data['y'],X).fit()         #fitting the model\n",
    "predictions= model.summary()      #summary of the model\n",
    "predictions"
   ]
  },
  {
   "cell_type": "markdown",
   "metadata": {},
   "source": [
    "To check which predicor is important, we will have to see that null hypothesis which we assumed that coefficients of all variables is zero, which can be checked using p-value, if p<alpha null hypothesis is rejected. As p-value we got is 2-tailed and we need 1-tailed value so divide p-value by 2\n",
    "\n",
    "a) For x1:\n",
    "p=0.995/2=0.498>0.05, Hence predictor variable x1 is not important\n",
    "\n",
    "b)For x2:\n",
    "p=0.268/2=0.134>0.05, Hence predictor variable x2 is not important\n",
    "\n",
    "c)For x3:\n",
    "p=0.121/2=0.111>0.05, Hence predictor variable x3 is not important\n",
    "\n",
    "d)For worker's strike:\n",
    "p=0.018/2=0.009<0.05, Hence predictor variable worker's strike is important"
   ]
  },
  {
   "cell_type": "markdown",
   "metadata": {},
   "source": [
    "Sign of the coefficient x1 is negative which indicate that it is negatively correlated, while in previous part, it was depicted that relation is positive."
   ]
  },
  {
   "cell_type": "code",
   "execution_count": 35,
   "metadata": {},
   "outputs": [
    {
     "name": "stdout",
     "output_type": "stream",
     "text": [
      "1584.8895759463644\n"
     ]
    }
   ],
   "source": [
    "y_pred=model.predict(X)\n",
    "error=np.sum([(data['y']-y_pred)**2])\n",
    "print(error)\n"
   ]
  },
  {
   "cell_type": "markdown",
   "metadata": {},
   "source": [
    "So,1584.889 variability in y is not explained by model\n",
    "\n",
    "In terms of fraction variability not explained out of total variability is (1-r-square) i.e\n",
    "\n",
    "1-0.830=0.170\n"
   ]
  },
  {
   "cell_type": "markdown",
   "metadata": {},
   "source": [
    "## Answer 4"
   ]
  },
  {
   "cell_type": "code",
   "execution_count": 36,
   "metadata": {},
   "outputs": [],
   "source": [
    "data['x1'] = data['x1'].apply(lambda x: np.log(x + 1))"
   ]
  },
  {
   "cell_type": "code",
   "execution_count": 37,
   "metadata": {},
   "outputs": [
    {
     "name": "stdout",
     "output_type": "stream",
     "text": [
      "    obs        x1  x2  x3  Worker's  Strike   y\n",
      "0     1  4.110874   7   7                 0  29\n",
      "1     2  4.394449  10   8                 0  15\n",
      "2     3  3.931826  14   5                 0  10\n",
      "3     4  3.931826   4   3                 0  15\n",
      "4     5  4.330733   5   6                 0  30\n",
      "5     6  6.621406  10  10                 0  45\n",
      "6     7  4.262680   5   3                 0   7\n",
      "7     8  4.394449   3   6                 0  21\n",
      "8     9  5.707110   8   8                 0  28\n",
      "9    10  4.709530   7   4                 0  30\n",
      "10   11  4.615121   8  10                 1  60\n",
      "11   12  5.303305  12  11                 1  70\n",
      "12   13  6.216606  15  12                 1  75\n",
      "13   14  7.090910  20  12                 1  90\n",
      "14   15  5.525453   8  12                 1  62\n",
      "15   16  5.993961  14  14                 1  72\n",
      "16   17  6.685861  17  12                 1  82\n",
      "17   18  7.863651  14  13                 1  50\n"
     ]
    }
   ],
   "source": [
    "print(data)"
   ]
  },
  {
   "cell_type": "code",
   "execution_count": 41,
   "metadata": {},
   "outputs": [
    {
     "data": {
      "text/html": [
       "<table class=\"simpletable\">\n",
       "<caption>OLS Regression Results</caption>\n",
       "<tr>\n",
       "  <th>Dep. Variable:</th>            <td>y</td>        <th>  R-squared:         </th> <td>   0.859</td>\n",
       "</tr>\n",
       "<tr>\n",
       "  <th>Model:</th>                   <td>OLS</td>       <th>  Adj. R-squared:    </th> <td>   0.816</td>\n",
       "</tr>\n",
       "<tr>\n",
       "  <th>Method:</th>             <td>Least Squares</td>  <th>  F-statistic:       </th> <td>   19.87</td>\n",
       "</tr>\n",
       "<tr>\n",
       "  <th>Date:</th>             <td>Mon, 17 Aug 2020</td> <th>  Prob (F-statistic):</th> <td>1.91e-05</td>\n",
       "</tr>\n",
       "<tr>\n",
       "  <th>Time:</th>                 <td>20:56:13</td>     <th>  Log-Likelihood:    </th> <td> -66.557</td>\n",
       "</tr>\n",
       "<tr>\n",
       "  <th>No. Observations:</th>      <td>    18</td>      <th>  AIC:               </th> <td>   143.1</td>\n",
       "</tr>\n",
       "<tr>\n",
       "  <th>Df Residuals:</th>          <td>    13</td>      <th>  BIC:               </th> <td>   147.6</td>\n",
       "</tr>\n",
       "<tr>\n",
       "  <th>Df Model:</th>              <td>     4</td>      <th>                     </th>     <td> </td>   \n",
       "</tr>\n",
       "<tr>\n",
       "  <th>Covariance Type:</th>      <td>nonrobust</td>    <th>                     </th>     <td> </td>   \n",
       "</tr>\n",
       "</table>\n",
       "<table class=\"simpletable\">\n",
       "<tr>\n",
       "          <td></td>            <th>coef</th>     <th>std err</th>      <th>t</th>      <th>P>|t|</th>  <th>[0.025</th>    <th>0.975]</th>  \n",
       "</tr>\n",
       "<tr>\n",
       "  <th>const</th>            <td>   -1.5612</td> <td>   14.635</td> <td>   -0.107</td> <td> 0.917</td> <td>  -33.179</td> <td>   30.057</td>\n",
       "</tr>\n",
       "<tr>\n",
       "  <th>x1</th>               <td>    2.0733</td> <td>    4.201</td> <td>    0.494</td> <td> 0.630</td> <td>   -7.003</td> <td>   11.149</td>\n",
       "</tr>\n",
       "<tr>\n",
       "  <th>x2</th>               <td>    0.6700</td> <td>    0.895</td> <td>    0.749</td> <td> 0.467</td> <td>   -1.264</td> <td>    2.604</td>\n",
       "</tr>\n",
       "<tr>\n",
       "  <th>x3</th>               <td>    1.6752</td> <td>    1.952</td> <td>    0.858</td> <td> 0.406</td> <td>   -2.543</td> <td>    5.893</td>\n",
       "</tr>\n",
       "<tr>\n",
       "  <th>Worker's  Strike</th> <td>   29.7635</td> <td>   10.884</td> <td>    2.735</td> <td> 0.017</td> <td>    6.250</td> <td>   53.278</td>\n",
       "</tr>\n",
       "</table>\n",
       "<table class=\"simpletable\">\n",
       "<tr>\n",
       "  <th>Omnibus:</th>       <td> 5.222</td> <th>  Durbin-Watson:     </th> <td>   1.726</td>\n",
       "</tr>\n",
       "<tr>\n",
       "  <th>Prob(Omnibus):</th> <td> 0.073</td> <th>  Jarque-Bera (JB):  </th> <td>   3.075</td>\n",
       "</tr>\n",
       "<tr>\n",
       "  <th>Skew:</th>          <td>-0.979</td> <th>  Prob(JB):          </th> <td>   0.215</td>\n",
       "</tr>\n",
       "<tr>\n",
       "  <th>Kurtosis:</th>      <td> 3.514</td> <th>  Cond. No.          </th> <td>    88.0</td>\n",
       "</tr>\n",
       "</table><br/><br/>Warnings:<br/>[1] Standard Errors assume that the covariance matrix of the errors is correctly specified."
      ],
      "text/plain": [
       "<class 'statsmodels.iolib.summary.Summary'>\n",
       "\"\"\"\n",
       "                            OLS Regression Results                            \n",
       "==============================================================================\n",
       "Dep. Variable:                      y   R-squared:                       0.859\n",
       "Model:                            OLS   Adj. R-squared:                  0.816\n",
       "Method:                 Least Squares   F-statistic:                     19.87\n",
       "Date:                Mon, 17 Aug 2020   Prob (F-statistic):           1.91e-05\n",
       "Time:                        20:56:13   Log-Likelihood:                -66.557\n",
       "No. Observations:                  18   AIC:                             143.1\n",
       "Df Residuals:                      13   BIC:                             147.6\n",
       "Df Model:                           4                                         \n",
       "Covariance Type:            nonrobust                                         \n",
       "====================================================================================\n",
       "                       coef    std err          t      P>|t|      [0.025      0.975]\n",
       "------------------------------------------------------------------------------------\n",
       "const               -1.5612     14.635     -0.107      0.917     -33.179      30.057\n",
       "x1                   2.0733      4.201      0.494      0.630      -7.003      11.149\n",
       "x2                   0.6700      0.895      0.749      0.467      -1.264       2.604\n",
       "x3                   1.6752      1.952      0.858      0.406      -2.543       5.893\n",
       "Worker's  Strike    29.7635     10.884      2.735      0.017       6.250      53.278\n",
       "==============================================================================\n",
       "Omnibus:                        5.222   Durbin-Watson:                   1.726\n",
       "Prob(Omnibus):                  0.073   Jarque-Bera (JB):                3.075\n",
       "Skew:                          -0.979   Prob(JB):                        0.215\n",
       "Kurtosis:                       3.514   Cond. No.                         88.0\n",
       "==============================================================================\n",
       "\n",
       "Warnings:\n",
       "[1] Standard Errors assume that the covariance matrix of the errors is correctly specified.\n",
       "\"\"\""
      ]
     },
     "execution_count": 41,
     "metadata": {},
     "output_type": "execute_result"
    }
   ],
   "source": [
    "X_modified=data[[\"x1\",\"x2\",\"x3\",\"Worker's  Strike\"]]\n",
    "X_modified=sm.add_constant(X_modified)        \n",
    "model_modified= sm.OLS(data['y'],X_modified).fit()         \n",
    "predictions_modified= model_modified.summary()      \n",
    "predictions_modified"
   ]
  },
  {
   "cell_type": "markdown",
   "metadata": {},
   "source": [
    "Comparing  modified model with previous model, r-square value as well F-statistic is more in previous model, Hence previous model depict the relationship better.\n",
    "\n",
    "In this model also only one predictor \"Worker's Strike\" is important."
   ]
  },
  {
   "cell_type": "code",
   "execution_count": 58,
   "metadata": {},
   "outputs": [
    {
     "data": {
      "text/plain": [
       "([<matplotlib.axis.XTick at 0x23ff6adf908>,\n",
       "  <matplotlib.axis.XTick at 0x23ff6ba34c8>,\n",
       "  <matplotlib.axis.XTick at 0x23ff6ba3088>,\n",
       "  <matplotlib.axis.XTick at 0x23ff6bd2708>,\n",
       "  <matplotlib.axis.XTick at 0x23ff6bd2a08>,\n",
       "  <matplotlib.axis.XTick at 0x23ff6bd53c8>,\n",
       "  <matplotlib.axis.XTick at 0x23ff6bd5b88>,\n",
       "  <matplotlib.axis.XTick at 0x23ff6bdc548>,\n",
       "  <matplotlib.axis.XTick at 0x23ff6bda108>,\n",
       "  <matplotlib.axis.XTick at 0x23ff6bdabc8>,\n",
       "  <matplotlib.axis.XTick at 0x23ff6be3708>,\n",
       "  <matplotlib.axis.XTick at 0x23ff6be7048>,\n",
       "  <matplotlib.axis.XTick at 0x23ff6be7dc8>,\n",
       "  <matplotlib.axis.XTick at 0x23ff6bda7c8>,\n",
       "  <matplotlib.axis.XTick at 0x23ff6bd5a48>,\n",
       "  <matplotlib.axis.XTick at 0x23ff6bed1c8>,\n",
       "  <matplotlib.axis.XTick at 0x23ff6bed848>,\n",
       "  <matplotlib.axis.XTick at 0x23ff6bf0448>,\n",
       "  <matplotlib.axis.XTick at 0x23ff6bf5088>],\n",
       " <a list of 19 Text xticklabel objects>)"
      ]
     },
     "execution_count": 58,
     "metadata": {},
     "output_type": "execute_result"
    },
    {
     "data": {
      "image/png": "[encoded data removed]",
      "text/plain": [
       "<Figure size 432x288 with 1 Axes>"
      ]
     },
     "metadata": {
      "needs_background": "light"
     },
     "output_type": "display_data"
    }
   ],
   "source": [
    "y_pred=model_modified.predict(X_modified)\n",
    "residual=y_pred-data['y']\n",
    "sb.residplot(data['obs'], residual,lowess=True, color=\"g\")\n",
    "plt.xticks(np.arange(0, 18+1, 1.0))"
   ]
  },
  {
   "cell_type": "markdown",
   "metadata": {},
   "source": [
    "From the above residula plot it can be seen that observation 18 has extremely large residual,which suggest that observation 18 in the dataset was incorrect and cannot be trusted for the size of the contract as well as the time required for completion."
   ]
  },
  {
   "cell_type": "markdown",
   "metadata": {},
   "source": [
    "## Answer 5"
   ]
  },
  {
   "cell_type": "code",
   "execution_count": 62,
   "metadata": {},
   "outputs": [
    {
     "name": "stdout",
     "output_type": "stream",
     "text": [
      "    obs        x1  x2  x3  Worker's  Strike   y\n",
      "0     1  4.110874   7   7                 0  29\n",
      "1     2  4.394449  10   8                 0  15\n",
      "2     3  3.931826  14   5                 0  10\n",
      "3     4  3.931826   4   3                 0  15\n",
      "4     5  4.330733   5   6                 0  30\n",
      "5     6  6.621406  10  10                 0  45\n",
      "6     7  4.262680   5   3                 0   7\n",
      "7     8  4.394449   3   6                 0  21\n",
      "8     9  5.707110   8   8                 0  28\n",
      "9    10  4.709530   7   4                 0  30\n",
      "10   11  4.615121   8  10                 1  60\n",
      "11   12  5.303305  12  11                 1  70\n",
      "12   13  6.216606  15  12                 1  75\n",
      "13   14  7.090910  20  12                 1  90\n",
      "14   15  5.525453   8  12                 1  62\n",
      "15   16  5.993961  14  14                 1  72\n",
      "16   17  6.685861  17  12                 1  82\n"
     ]
    }
   ],
   "source": [
    "# excluding 18th observation\n",
    "data_new=data[:17][:]\n",
    "print(data_new)"
   ]
  },
  {
   "cell_type": "code",
   "execution_count": 64,
   "metadata": {},
   "outputs": [
    {
     "name": "stderr",
     "output_type": "stream",
     "text": [
      "C:\\Users\\lenovo\\anaconda3\\lib\\site-packages\\scipy\\stats\\stats.py:1535: UserWarning: kurtosistest only valid for n>=20 ... continuing anyway, n=17\n",
      "  \"anyway, n=%i\" % int(n))\n"
     ]
    },
    {
     "data": {
      "text/html": [
       "<table class=\"simpletable\">\n",
       "<caption>OLS Regression Results</caption>\n",
       "<tr>\n",
       "  <th>Dep. Variable:</th>            <td>y</td>        <th>  R-squared:         </th> <td>   0.950</td>\n",
       "</tr>\n",
       "<tr>\n",
       "  <th>Model:</th>                   <td>OLS</td>       <th>  Adj. R-squared:    </th> <td>   0.934</td>\n",
       "</tr>\n",
       "<tr>\n",
       "  <th>Method:</th>             <td>Least Squares</td>  <th>  F-statistic:       </th> <td>   57.25</td>\n",
       "</tr>\n",
       "<tr>\n",
       "  <th>Date:</th>             <td>Mon, 17 Aug 2020</td> <th>  Prob (F-statistic):</th> <td>1.02e-07</td>\n",
       "</tr>\n",
       "<tr>\n",
       "  <th>Time:</th>                 <td>22:15:22</td>     <th>  Log-Likelihood:    </th> <td> -54.496</td>\n",
       "</tr>\n",
       "<tr>\n",
       "  <th>No. Observations:</th>      <td>    17</td>      <th>  AIC:               </th> <td>   119.0</td>\n",
       "</tr>\n",
       "<tr>\n",
       "  <th>Df Residuals:</th>          <td>    12</td>      <th>  BIC:               </th> <td>   123.2</td>\n",
       "</tr>\n",
       "<tr>\n",
       "  <th>Df Model:</th>              <td>     4</td>      <th>                     </th>     <td> </td>   \n",
       "</tr>\n",
       "<tr>\n",
       "  <th>Covariance Type:</th>      <td>nonrobust</td>    <th>                     </th>     <td> </td>   \n",
       "</tr>\n",
       "</table>\n",
       "<table class=\"simpletable\">\n",
       "<tr>\n",
       "          <td></td>            <th>coef</th>     <th>std err</th>      <th>t</th>      <th>P>|t|</th>  <th>[0.025</th>    <th>0.975]</th>  \n",
       "</tr>\n",
       "<tr>\n",
       "  <th>const</th>            <td>  -26.4538</td> <td>   10.494</td> <td>   -2.521</td> <td> 0.027</td> <td>  -49.317</td> <td>   -3.590</td>\n",
       "</tr>\n",
       "<tr>\n",
       "  <th>x1</th>               <td>   10.2026</td> <td>    3.124</td> <td>    3.266</td> <td> 0.007</td> <td>    3.397</td> <td>   17.008</td>\n",
       "</tr>\n",
       "<tr>\n",
       "  <th>x2</th>               <td>   -0.0089</td> <td>    0.572</td> <td>   -0.016</td> <td> 0.988</td> <td>   -1.256</td> <td>    1.238</td>\n",
       "</tr>\n",
       "<tr>\n",
       "  <th>x3</th>               <td>    0.3640</td> <td>    1.239</td> <td>    0.294</td> <td> 0.774</td> <td>   -2.337</td> <td>    3.064</td>\n",
       "</tr>\n",
       "<tr>\n",
       "  <th>Worker's  Strike</th> <td>   34.8708</td> <td>    6.819</td> <td>    5.114</td> <td> 0.000</td> <td>   20.013</td> <td>   49.729</td>\n",
       "</tr>\n",
       "</table>\n",
       "<table class=\"simpletable\">\n",
       "<tr>\n",
       "  <th>Omnibus:</th>       <td> 0.165</td> <th>  Durbin-Watson:     </th> <td>   2.156</td>\n",
       "</tr>\n",
       "<tr>\n",
       "  <th>Prob(Omnibus):</th> <td> 0.921</td> <th>  Jarque-Bera (JB):  </th> <td>   0.364</td>\n",
       "</tr>\n",
       "<tr>\n",
       "  <th>Skew:</th>          <td> 0.134</td> <th>  Prob(JB):          </th> <td>   0.834</td>\n",
       "</tr>\n",
       "<tr>\n",
       "  <th>Kurtosis:</th>      <td> 2.335</td> <th>  Cond. No.          </th> <td>    94.4</td>\n",
       "</tr>\n",
       "</table><br/><br/>Warnings:<br/>[1] Standard Errors assume that the covariance matrix of the errors is correctly specified."
      ],
      "text/plain": [
       "<class 'statsmodels.iolib.summary.Summary'>\n",
       "\"\"\"\n",
       "                            OLS Regression Results                            \n",
       "==============================================================================\n",
       "Dep. Variable:                      y   R-squared:                       0.950\n",
       "Model:                            OLS   Adj. R-squared:                  0.934\n",
       "Method:                 Least Squares   F-statistic:                     57.25\n",
       "Date:                Mon, 17 Aug 2020   Prob (F-statistic):           1.02e-07\n",
       "Time:                        22:15:22   Log-Likelihood:                -54.496\n",
       "No. Observations:                  17   AIC:                             119.0\n",
       "Df Residuals:                      12   BIC:                             123.2\n",
       "Df Model:                           4                                         \n",
       "Covariance Type:            nonrobust                                         \n",
       "====================================================================================\n",
       "                       coef    std err          t      P>|t|      [0.025      0.975]\n",
       "------------------------------------------------------------------------------------\n",
       "const              -26.4538     10.494     -2.521      0.027     -49.317      -3.590\n",
       "x1                  10.2026      3.124      3.266      0.007       3.397      17.008\n",
       "x2                  -0.0089      0.572     -0.016      0.988      -1.256       1.238\n",
       "x3                   0.3640      1.239      0.294      0.774      -2.337       3.064\n",
       "Worker's  Strike    34.8708      6.819      5.114      0.000      20.013      49.729\n",
       "==============================================================================\n",
       "Omnibus:                        0.165   Durbin-Watson:                   2.156\n",
       "Prob(Omnibus):                  0.921   Jarque-Bera (JB):                0.364\n",
       "Skew:                           0.134   Prob(JB):                        0.834\n",
       "Kurtosis:                       2.335   Cond. No.                         94.4\n",
       "==============================================================================\n",
       "\n",
       "Warnings:\n",
       "[1] Standard Errors assume that the covariance matrix of the errors is correctly specified.\n",
       "\"\"\""
      ]
     },
     "execution_count": 64,
     "metadata": {},
     "output_type": "execute_result"
    }
   ],
   "source": [
    "X_new=data_new[[\"x1\",\"x2\",\"x3\",\"Worker's  Strike\"]]\n",
    "X_new=sm.add_constant(X_new)        \n",
    "model_new= sm.OLS(data_new['y'],X_new).fit()         \n",
    "predictions_new= model_new.summary()      \n",
    "predictions_new"
   ]
  },
  {
   "cell_type": "markdown",
   "metadata": {},
   "source": [
    "From the above results it can be seen that after excluding 18th observation model fits better as r-square and F-statistic value both increases and also p-value for x1=0.007/2 <0.005, so it tells variable x1 is also important with worker's strike"
   ]
  },
  {
   "cell_type": "markdown",
   "metadata": {},
   "source": [
    "We need to estimate the time required to complete a construction project during non-strike period when x1 = $65,000, x2 = 7 days, and x3 = 5 during non strike period"
   ]
  },
  {
   "cell_type": "code",
   "execution_count": 83,
   "metadata": {},
   "outputs": [],
   "source": [
    "x1=np.log(65+1)\n",
    "x2=7\n",
    "x3=5\n",
    "x4=0\n"
   ]
  },
  {
   "cell_type": "markdown",
   "metadata": {},
   "source": [
    "Equation was y=10.2026*x1 -0.0089*x2 +0.3640*x3 +34.8708*(Worker's Strike)-26.4538"
   ]
  },
  {
   "cell_type": "code",
   "execution_count": 84,
   "metadata": {},
   "outputs": [
    {
     "name": "stdout",
     "output_type": "stream",
     "text": [
      "18.049271470998804\n"
     ]
    }
   ],
   "source": [
    "y=10.2026*x1 -0.0089*x2 +0.3640*x3 +34.8708*(x4)-26.4538\n",
    "print(y)"
   ]
  },
  {
   "cell_type": "markdown",
   "metadata": {},
   "source": [
    "So it will take almost 18 days to complete construction project"
   ]
  },
  {
   "cell_type": "markdown",
   "metadata": {},
   "source": [
    "## Answer 6"
   ]
  },
  {
   "cell_type": "markdown",
   "metadata": {},
   "source": [
    "Based on all analysis done above, we must need to know whether worker's strike is there or not to predict the construction project completion time. FInal model expression after applying log transformation for x1 and removing 18th observation final equation is\n",
    "\n",
    " y=10.2026x1 -0.0089x2 +0.3640x3 +34.8708(Worker's Strike)-26.4538\n",
    "\n",
    "This equation have r-square value as 0.934 which is very high and also F-statistics value very high as 57.25 and p-value associated with it as very less as 1.02*10(-7) which signifies that this relationship is reliable"
   ]
  }
 ],
 "metadata": {
  "kernelspec": {
   "display_name": "Python [conda env:root] *",
   "language": "python",
   "name": "conda-root-py"
  },
  "language_info": {
   "codemirror_mode": {
    "name": "ipython",
    "version": 3
   },
   "file_extension": ".py",
   "mimetype": "text/x-python",
   "name": "python",
   "nbconvert_exporter": "python",
   "pygments_lexer": "ipython3",
   "version": "3.7.7"
  }
 },
 "nbformat": 4,
 "nbformat_minor": 4
}
